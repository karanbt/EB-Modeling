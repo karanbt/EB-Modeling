{
 "cells": [
  {
   "cell_type": "code",
   "execution_count": 28,
   "metadata": {},
   "outputs": [],
   "source": [
    "%matplotlib inline \n",
    "from astropy.io import fits\n",
    "from astropy.table import Table\n",
    "import numpy as np\n",
    "import glob"
   ]
  },
  {
   "cell_type": "markdown",
   "metadata": {},
   "source": [
    "# Getting the data"
   ]
  },
  {
   "cell_type": "code",
   "execution_count": 3,
   "metadata": {},
   "outputs": [],
   "source": [
    "from astroquery.mast import Mast\n",
    "from astroquery.mast import Observations"
   ]
  },
  {
   "cell_type": "code",
   "execution_count": 25,
   "metadata": {},
   "outputs": [],
   "source": [
    "keplerObs = Observations.query_criteria(target_name = 'kplr002306740', obs_collection = 'Kepler')\n",
    "keplerProds = Observations.get_product_list(keplerObs[0])\n",
    "myProds = Observations.filter_products(keplerProds, productSubGroupDescription = 'LLC',\n",
    "                                       mrp_only = False)"
   ]
  },
  {
   "cell_type": "code",
   "execution_count": 26,
   "metadata": {},
   "outputs": [
    {
     "data": {
      "text/html": [
       "<div><i>Table masked=True length=17</i>\n",
       "<table id=\"table140395562520912\" class=\"table-striped table-bordered table-condensed\">\n",
       "<thead><tr><th>obsID</th><th>obs_collection</th><th>dataproduct_type</th><th>obs_id</th><th>description</th><th>type</th><th>dataURI</th><th>productType</th><th>productGroupDescription</th><th>productSubGroupDescription</th><th>productDocumentationURL</th><th>project</th><th>prvversion</th><th>proposal_id</th><th>productFilename</th><th>size</th><th>parent_obsid</th><th>dataRights</th><th>calib_level</th><th>filters</th></tr></thead>\n",
       "<thead><tr><th>str6</th><th>str6</th><th>str10</th><th>str36</th><th>str59</th><th>str1</th><th>str110</th><th>str9</th><th>str28</th><th>str8</th><th>str1</th><th>str6</th><th>str1</th><th>str2</th><th>str44</th><th>int64</th><th>str6</th><th>str6</th><th>int64</th><th>str6</th></tr></thead>\n",
       "<tr><td>415012</td><td>Kepler</td><td>timeseries</td><td>kplr002306740_lc_Q011111111111111111</td><td>Lightcurve Long Cadence (CLC) - Q12</td><td>C</td><td>mast:KEPLER/url/missions/kepler/lightcurves/0023/002306740/kplr002306740-2012088054726_llc.fits</td><td>SCIENCE</td><td>Minimum Recommended Products</td><td>LLC</td><td>--</td><td>Kepler</td><td>--</td><td>EX</td><td>kplr002306740-2012088054726_llc.fits</td><td>434880</td><td>415012</td><td>PUBLIC</td><td>2</td><td>KEPLER</td></tr>\n",
       "<tr><td>415012</td><td>Kepler</td><td>timeseries</td><td>kplr002306740_lc_Q011111111111111111</td><td>Lightcurve Long Cadence (CLC) - Q6</td><td>C</td><td>mast:KEPLER/url/missions/kepler/lightcurves/0023/002306740/kplr002306740-2010265121752_llc.fits</td><td>SCIENCE</td><td>Minimum Recommended Products</td><td>LLC</td><td>--</td><td>Kepler</td><td>--</td><td>EX</td><td>kplr002306740-2010265121752_llc.fits</td><td>469440</td><td>415012</td><td>PUBLIC</td><td>2</td><td>KEPLER</td></tr>\n",
       "<tr><td>415012</td><td>Kepler</td><td>timeseries</td><td>kplr002306740_lc_Q011111111111111111</td><td>Lightcurve Long Cadence (CLC) - Q4</td><td>C</td><td>mast:KEPLER/url/missions/kepler/lightcurves/0023/002306740/kplr002306740-2010078095331_llc.fits</td><td>SCIENCE</td><td>Minimum Recommended Products</td><td>LLC</td><td>--</td><td>Kepler</td><td>--</td><td>EX</td><td>kplr002306740-2010078095331_llc.fits</td><td>469440</td><td>415012</td><td>PUBLIC</td><td>2</td><td>KEPLER</td></tr>\n",
       "<tr><td>415012</td><td>Kepler</td><td>timeseries</td><td>kplr002306740_lc_Q011111111111111111</td><td>Lightcurve Long Cadence (CLC) - Q5</td><td>C</td><td>mast:KEPLER/url/missions/kepler/lightcurves/0023/002306740/kplr002306740-2010174085026_llc.fits</td><td>SCIENCE</td><td>Minimum Recommended Products</td><td>LLC</td><td>--</td><td>Kepler</td><td>--</td><td>EX</td><td>kplr002306740-2010174085026_llc.fits</td><td>492480</td><td>415012</td><td>PUBLIC</td><td>2</td><td>KEPLER</td></tr>\n",
       "<tr><td>415012</td><td>Kepler</td><td>timeseries</td><td>kplr002306740_lc_Q011111111111111111</td><td>Lightcurve Long Cadence (CLC) - Q8</td><td>C</td><td>mast:KEPLER/url/missions/kepler/lightcurves/0023/002306740/kplr002306740-2011073133259_llc.fits</td><td>SCIENCE</td><td>Minimum Recommended Products</td><td>LLC</td><td>--</td><td>Kepler</td><td>--</td><td>EX</td><td>kplr002306740-2011073133259_llc.fits</td><td>357120</td><td>415012</td><td>PUBLIC</td><td>2</td><td>KEPLER</td></tr>\n",
       "<tr><td>415012</td><td>Kepler</td><td>timeseries</td><td>kplr002306740_lc_Q011111111111111111</td><td>Lightcurve Long Cadence (CLC) - Q13</td><td>C</td><td>mast:KEPLER/url/missions/kepler/lightcurves/0023/002306740/kplr002306740-2012179063303_llc.fits</td><td>SCIENCE</td><td>Minimum Recommended Products</td><td>LLC</td><td>--</td><td>Kepler</td><td>--</td><td>EX</td><td>kplr002306740-2012179063303_llc.fits</td><td>472320</td><td>415012</td><td>PUBLIC</td><td>2</td><td>KEPLER</td></tr>\n",
       "<tr><td>415012</td><td>Kepler</td><td>timeseries</td><td>kplr002306740_lc_Q011111111111111111</td><td>Lightcurve Long Cadence (CLC) - Q3</td><td>C</td><td>mast:KEPLER/url/missions/kepler/lightcurves/0023/002306740/kplr002306740-2009350155506_llc.fits</td><td>SCIENCE</td><td>Minimum Recommended Products</td><td>LLC</td><td>--</td><td>Kepler</td><td>--</td><td>EX</td><td>kplr002306740-2009350155506_llc.fits</td><td>466560</td><td>415012</td><td>PUBLIC</td><td>2</td><td>KEPLER</td></tr>\n",
       "<tr><td>415012</td><td>Kepler</td><td>timeseries</td><td>kplr002306740_lc_Q011111111111111111</td><td>Lightcurve Long Cadence (CLC) - Q14</td><td>C</td><td>mast:KEPLER/url/missions/kepler/lightcurves/0023/002306740/kplr002306740-2012277125453_llc.fits</td><td>SCIENCE</td><td>Minimum Recommended Products</td><td>LLC</td><td>--</td><td>Kepler</td><td>--</td><td>EX</td><td>kplr002306740-2012277125453_llc.fits</td><td>506880</td><td>415012</td><td>PUBLIC</td><td>2</td><td>KEPLER</td></tr>\n",
       "<tr><td>415012</td><td>Kepler</td><td>timeseries</td><td>kplr002306740_lc_Q011111111111111111</td><td>Lightcurve Long Cadence (CLC) - Q11</td><td>C</td><td>mast:KEPLER/url/missions/kepler/lightcurves/0023/002306740/kplr002306740-2012004120508_llc.fits</td><td>SCIENCE</td><td>Minimum Recommended Products</td><td>LLC</td><td>--</td><td>Kepler</td><td>--</td><td>EX</td><td>kplr002306740-2012004120508_llc.fits</td><td>506880</td><td>415012</td><td>PUBLIC</td><td>2</td><td>KEPLER</td></tr>\n",
       "<tr><td>415012</td><td>Kepler</td><td>timeseries</td><td>kplr002306740_lc_Q011111111111111111</td><td>Lightcurve Long Cadence (CLC) - Q9</td><td>C</td><td>mast:KEPLER/url/missions/kepler/lightcurves/0023/002306740/kplr002306740-2011177032512_llc.fits</td><td>SCIENCE</td><td>Minimum Recommended Products</td><td>LLC</td><td>--</td><td>Kepler</td><td>--</td><td>EX</td><td>kplr002306740-2011177032512_llc.fits</td><td>506880</td><td>415012</td><td>PUBLIC</td><td>2</td><td>KEPLER</td></tr>\n",
       "<tr><td>415012</td><td>Kepler</td><td>timeseries</td><td>kplr002306740_lc_Q011111111111111111</td><td>Lightcurve Long Cadence (CLC) - Q7</td><td>C</td><td>mast:KEPLER/url/missions/kepler/lightcurves/0023/002306740/kplr002306740-2010355172524_llc.fits</td><td>SCIENCE</td><td>Minimum Recommended Products</td><td>LLC</td><td>--</td><td>Kepler</td><td>--</td><td>EX</td><td>kplr002306740-2010355172524_llc.fits</td><td>466560</td><td>415012</td><td>PUBLIC</td><td>2</td><td>KEPLER</td></tr>\n",
       "<tr><td>415012</td><td>Kepler</td><td>timeseries</td><td>kplr002306740_lc_Q011111111111111111</td><td>Lightcurve Long Cadence (CLC) - Q16</td><td>C</td><td>mast:KEPLER/url/missions/kepler/lightcurves/0023/002306740/kplr002306740-2013098041711_llc.fits</td><td>SCIENCE</td><td>Minimum Recommended Products</td><td>LLC</td><td>--</td><td>Kepler</td><td>--</td><td>EX</td><td>kplr002306740-2013098041711_llc.fits</td><td>449280</td><td>415012</td><td>PUBLIC</td><td>2</td><td>KEPLER</td></tr>\n",
       "<tr><td>415012</td><td>Kepler</td><td>timeseries</td><td>kplr002306740_lc_Q011111111111111111</td><td>Lightcurve Long Cadence (CLC) - Q10</td><td>C</td><td>mast:KEPLER/url/missions/kepler/lightcurves/0023/002306740/kplr002306740-2011271113734_llc.fits</td><td>SCIENCE</td><td>Minimum Recommended Products</td><td>LLC</td><td>--</td><td>Kepler</td><td>--</td><td>EX</td><td>kplr002306740-2011271113734_llc.fits</td><td>486720</td><td>415012</td><td>PUBLIC</td><td>2</td><td>KEPLER</td></tr>\n",
       "<tr><td>415012</td><td>Kepler</td><td>timeseries</td><td>kplr002306740_lc_Q011111111111111111</td><td>Lightcurve Long Cadence (CLC) - Q17</td><td>C</td><td>mast:KEPLER/url/missions/kepler/lightcurves/0023/002306740/kplr002306740-2013131215648_llc.fits</td><td>SCIENCE</td><td>Minimum Recommended Products</td><td>LLC</td><td>--</td><td>Kepler</td><td>--</td><td>EX</td><td>kplr002306740-2013131215648_llc.fits</td><td>187200</td><td>415012</td><td>PUBLIC</td><td>2</td><td>KEPLER</td></tr>\n",
       "<tr><td>415012</td><td>Kepler</td><td>timeseries</td><td>kplr002306740_lc_Q011111111111111111</td><td>Lightcurve Long Cadence (CLC) - Q15</td><td>C</td><td>mast:KEPLER/url/missions/kepler/lightcurves/0023/002306740/kplr002306740-2013011073258_llc.fits</td><td>SCIENCE</td><td>Minimum Recommended Products</td><td>LLC</td><td>--</td><td>Kepler</td><td>--</td><td>EX</td><td>kplr002306740-2013011073258_llc.fits</td><td>506880</td><td>415012</td><td>PUBLIC</td><td>2</td><td>KEPLER</td></tr>\n",
       "<tr><td>415012</td><td>Kepler</td><td>timeseries</td><td>kplr002306740_lc_Q011111111111111111</td><td>Lightcurve Long Cadence (CLC) - Q1</td><td>C</td><td>mast:KEPLER/url/missions/kepler/lightcurves/0023/002306740/kplr002306740-2009166043257_llc.fits</td><td>SCIENCE</td><td>Minimum Recommended Products</td><td>LLC</td><td>--</td><td>Kepler</td><td>--</td><td>EX</td><td>kplr002306740-2009166043257_llc.fits</td><td>192960</td><td>415012</td><td>PUBLIC</td><td>2</td><td>KEPLER</td></tr>\n",
       "<tr><td>415012</td><td>Kepler</td><td>timeseries</td><td>kplr002306740_lc_Q011111111111111111</td><td>Lightcurve Long Cadence (CLC) - Q2</td><td>C</td><td>mast:KEPLER/url/missions/kepler/lightcurves/0023/002306740/kplr002306740-2009259160929_llc.fits</td><td>SCIENCE</td><td>Minimum Recommended Products</td><td>LLC</td><td>--</td><td>Kepler</td><td>--</td><td>EX</td><td>kplr002306740-2009259160929_llc.fits</td><td>466560</td><td>415012</td><td>PUBLIC</td><td>2</td><td>KEPLER</td></tr>\n",
       "</table></div>"
      ],
      "text/plain": [
       "<Table masked=True length=17>\n",
       "obsID  obs_collection dataproduct_type ... dataRights calib_level filters\n",
       " str6       str6           str10       ...    str6       int64      str6 \n",
       "------ -------------- ---------------- ... ---------- ----------- -------\n",
       "415012         Kepler       timeseries ...     PUBLIC           2  KEPLER\n",
       "415012         Kepler       timeseries ...     PUBLIC           2  KEPLER\n",
       "415012         Kepler       timeseries ...     PUBLIC           2  KEPLER\n",
       "415012         Kepler       timeseries ...     PUBLIC           2  KEPLER\n",
       "415012         Kepler       timeseries ...     PUBLIC           2  KEPLER\n",
       "415012         Kepler       timeseries ...     PUBLIC           2  KEPLER\n",
       "415012         Kepler       timeseries ...     PUBLIC           2  KEPLER\n",
       "415012         Kepler       timeseries ...     PUBLIC           2  KEPLER\n",
       "415012         Kepler       timeseries ...     PUBLIC           2  KEPLER\n",
       "415012         Kepler       timeseries ...     PUBLIC           2  KEPLER\n",
       "415012         Kepler       timeseries ...     PUBLIC           2  KEPLER\n",
       "415012         Kepler       timeseries ...     PUBLIC           2  KEPLER\n",
       "415012         Kepler       timeseries ...     PUBLIC           2  KEPLER\n",
       "415012         Kepler       timeseries ...     PUBLIC           2  KEPLER\n",
       "415012         Kepler       timeseries ...     PUBLIC           2  KEPLER\n",
       "415012         Kepler       timeseries ...     PUBLIC           2  KEPLER\n",
       "415012         Kepler       timeseries ...     PUBLIC           2  KEPLER"
      ]
     },
     "execution_count": 26,
     "metadata": {},
     "output_type": "execute_result"
    }
   ],
   "source": [
    "myProds"
   ]
  },
  {
   "cell_type": "code",
   "execution_count": 27,
   "metadata": {},
   "outputs": [
    {
     "name": "stdout",
     "output_type": "stream",
     "text": [
      "Downloading URL https://mast.stsci.edu/api/v0.1/Download/file?uri=mast:KEPLER/url/missions/kepler/lightcurves/0023/002306740/kplr002306740-2009166043257_llc.fits to /mnt/c/Users/Karan/Documents/GitHub/Eclipsing-Binary-Modeling/data/raw_data/mastDownload/Kepler/kplr002306740_lc_Q011111111111111111/kplr002306740-2009166043257_llc.fits ... [Done]\n",
      "Downloading URL https://mast.stsci.edu/api/v0.1/Download/file?uri=mast:KEPLER/url/missions/kepler/lightcurves/0023/002306740/kplr002306740-2009259160929_llc.fits to /mnt/c/Users/Karan/Documents/GitHub/Eclipsing-Binary-Modeling/data/raw_data/mastDownload/Kepler/kplr002306740_lc_Q011111111111111111/kplr002306740-2009259160929_llc.fits ... [Done]\n",
      "Downloading URL https://mast.stsci.edu/api/v0.1/Download/file?uri=mast:KEPLER/url/missions/kepler/lightcurves/0023/002306740/kplr002306740-2009350155506_llc.fits to /mnt/c/Users/Karan/Documents/GitHub/Eclipsing-Binary-Modeling/data/raw_data/mastDownload/Kepler/kplr002306740_lc_Q011111111111111111/kplr002306740-2009350155506_llc.fits ... [Done]\n",
      "Downloading URL https://mast.stsci.edu/api/v0.1/Download/file?uri=mast:KEPLER/url/missions/kepler/lightcurves/0023/002306740/kplr002306740-2010078095331_llc.fits to /mnt/c/Users/Karan/Documents/GitHub/Eclipsing-Binary-Modeling/data/raw_data/mastDownload/Kepler/kplr002306740_lc_Q011111111111111111/kplr002306740-2010078095331_llc.fits ... [Done]\n",
      "Downloading URL https://mast.stsci.edu/api/v0.1/Download/file?uri=mast:KEPLER/url/missions/kepler/lightcurves/0023/002306740/kplr002306740-2010174085026_llc.fits to /mnt/c/Users/Karan/Documents/GitHub/Eclipsing-Binary-Modeling/data/raw_data/mastDownload/Kepler/kplr002306740_lc_Q011111111111111111/kplr002306740-2010174085026_llc.fits ... [Done]\n",
      "Downloading URL https://mast.stsci.edu/api/v0.1/Download/file?uri=mast:KEPLER/url/missions/kepler/lightcurves/0023/002306740/kplr002306740-2010265121752_llc.fits to /mnt/c/Users/Karan/Documents/GitHub/Eclipsing-Binary-Modeling/data/raw_data/mastDownload/Kepler/kplr002306740_lc_Q011111111111111111/kplr002306740-2010265121752_llc.fits ... [Done]\n",
      "Downloading URL https://mast.stsci.edu/api/v0.1/Download/file?uri=mast:KEPLER/url/missions/kepler/lightcurves/0023/002306740/kplr002306740-2010355172524_llc.fits to /mnt/c/Users/Karan/Documents/GitHub/Eclipsing-Binary-Modeling/data/raw_data/mastDownload/Kepler/kplr002306740_lc_Q011111111111111111/kplr002306740-2010355172524_llc.fits ... [Done]\n",
      "Downloading URL https://mast.stsci.edu/api/v0.1/Download/file?uri=mast:KEPLER/url/missions/kepler/lightcurves/0023/002306740/kplr002306740-2011073133259_llc.fits to /mnt/c/Users/Karan/Documents/GitHub/Eclipsing-Binary-Modeling/data/raw_data/mastDownload/Kepler/kplr002306740_lc_Q011111111111111111/kplr002306740-2011073133259_llc.fits ... [Done]\n",
      "Downloading URL https://mast.stsci.edu/api/v0.1/Download/file?uri=mast:KEPLER/url/missions/kepler/lightcurves/0023/002306740/kplr002306740-2011177032512_llc.fits to /mnt/c/Users/Karan/Documents/GitHub/Eclipsing-Binary-Modeling/data/raw_data/mastDownload/Kepler/kplr002306740_lc_Q011111111111111111/kplr002306740-2011177032512_llc.fits ... [Done]\n",
      "Downloading URL https://mast.stsci.edu/api/v0.1/Download/file?uri=mast:KEPLER/url/missions/kepler/lightcurves/0023/002306740/kplr002306740-2011271113734_llc.fits to /mnt/c/Users/Karan/Documents/GitHub/Eclipsing-Binary-Modeling/data/raw_data/mastDownload/Kepler/kplr002306740_lc_Q011111111111111111/kplr002306740-2011271113734_llc.fits ... [Done]\n",
      "Downloading URL https://mast.stsci.edu/api/v0.1/Download/file?uri=mast:KEPLER/url/missions/kepler/lightcurves/0023/002306740/kplr002306740-2012004120508_llc.fits to /mnt/c/Users/Karan/Documents/GitHub/Eclipsing-Binary-Modeling/data/raw_data/mastDownload/Kepler/kplr002306740_lc_Q011111111111111111/kplr002306740-2012004120508_llc.fits ... [Done]\n",
      "Downloading URL https://mast.stsci.edu/api/v0.1/Download/file?uri=mast:KEPLER/url/missions/kepler/lightcurves/0023/002306740/kplr002306740-2012088054726_llc.fits to /mnt/c/Users/Karan/Documents/GitHub/Eclipsing-Binary-Modeling/data/raw_data/mastDownload/Kepler/kplr002306740_lc_Q011111111111111111/kplr002306740-2012088054726_llc.fits ... [Done]\n",
      "Downloading URL https://mast.stsci.edu/api/v0.1/Download/file?uri=mast:KEPLER/url/missions/kepler/lightcurves/0023/002306740/kplr002306740-2012179063303_llc.fits to /mnt/c/Users/Karan/Documents/GitHub/Eclipsing-Binary-Modeling/data/raw_data/mastDownload/Kepler/kplr002306740_lc_Q011111111111111111/kplr002306740-2012179063303_llc.fits ... [Done]\n",
      "Downloading URL https://mast.stsci.edu/api/v0.1/Download/file?uri=mast:KEPLER/url/missions/kepler/lightcurves/0023/002306740/kplr002306740-2012277125453_llc.fits to /mnt/c/Users/Karan/Documents/GitHub/Eclipsing-Binary-Modeling/data/raw_data/mastDownload/Kepler/kplr002306740_lc_Q011111111111111111/kplr002306740-2012277125453_llc.fits ... [Done]\n",
      "Downloading URL https://mast.stsci.edu/api/v0.1/Download/file?uri=mast:KEPLER/url/missions/kepler/lightcurves/0023/002306740/kplr002306740-2013011073258_llc.fits to /mnt/c/Users/Karan/Documents/GitHub/Eclipsing-Binary-Modeling/data/raw_data/mastDownload/Kepler/kplr002306740_lc_Q011111111111111111/kplr002306740-2013011073258_llc.fits ... [Done]\n",
      "Downloading URL https://mast.stsci.edu/api/v0.1/Download/file?uri=mast:KEPLER/url/missions/kepler/lightcurves/0023/002306740/kplr002306740-2013098041711_llc.fits to /mnt/c/Users/Karan/Documents/GitHub/Eclipsing-Binary-Modeling/data/raw_data/mastDownload/Kepler/kplr002306740_lc_Q011111111111111111/kplr002306740-2013098041711_llc.fits ... [Done]\n",
      "Downloading URL https://mast.stsci.edu/api/v0.1/Download/file?uri=mast:KEPLER/url/missions/kepler/lightcurves/0023/002306740/kplr002306740-2013131215648_llc.fits to /mnt/c/Users/Karan/Documents/GitHub/Eclipsing-Binary-Modeling/data/raw_data/mastDownload/Kepler/kplr002306740_lc_Q011111111111111111/kplr002306740-2013131215648_llc.fits ... [Done]\n"
     ]
    },
    {
     "data": {
      "text/html": [
       "<div><i>Table length=17</i>\n",
       "<table id=\"table140395563116240\" class=\"table-striped table-bordered table-condensed\">\n",
       "<thead><tr><th>Local Path</th><th>Status</th><th>Message</th><th>URL</th></tr></thead>\n",
       "<thead><tr><th>str169</th><th>str8</th><th>object</th><th>object</th></tr></thead>\n",
       "<tr><td>/mnt/c/Users/Karan/Documents/GitHub/Eclipsing-Binary-Modeling/data/raw_data/mastDownload/Kepler/kplr002306740_lc_Q011111111111111111/kplr002306740-2009166043257_llc.fits</td><td>COMPLETE</td><td>None</td><td>None</td></tr>\n",
       "<tr><td>/mnt/c/Users/Karan/Documents/GitHub/Eclipsing-Binary-Modeling/data/raw_data/mastDownload/Kepler/kplr002306740_lc_Q011111111111111111/kplr002306740-2009259160929_llc.fits</td><td>COMPLETE</td><td>None</td><td>None</td></tr>\n",
       "<tr><td>/mnt/c/Users/Karan/Documents/GitHub/Eclipsing-Binary-Modeling/data/raw_data/mastDownload/Kepler/kplr002306740_lc_Q011111111111111111/kplr002306740-2009350155506_llc.fits</td><td>COMPLETE</td><td>None</td><td>None</td></tr>\n",
       "<tr><td>/mnt/c/Users/Karan/Documents/GitHub/Eclipsing-Binary-Modeling/data/raw_data/mastDownload/Kepler/kplr002306740_lc_Q011111111111111111/kplr002306740-2010078095331_llc.fits</td><td>COMPLETE</td><td>None</td><td>None</td></tr>\n",
       "<tr><td>/mnt/c/Users/Karan/Documents/GitHub/Eclipsing-Binary-Modeling/data/raw_data/mastDownload/Kepler/kplr002306740_lc_Q011111111111111111/kplr002306740-2010174085026_llc.fits</td><td>COMPLETE</td><td>None</td><td>None</td></tr>\n",
       "<tr><td>/mnt/c/Users/Karan/Documents/GitHub/Eclipsing-Binary-Modeling/data/raw_data/mastDownload/Kepler/kplr002306740_lc_Q011111111111111111/kplr002306740-2010265121752_llc.fits</td><td>COMPLETE</td><td>None</td><td>None</td></tr>\n",
       "<tr><td>/mnt/c/Users/Karan/Documents/GitHub/Eclipsing-Binary-Modeling/data/raw_data/mastDownload/Kepler/kplr002306740_lc_Q011111111111111111/kplr002306740-2010355172524_llc.fits</td><td>COMPLETE</td><td>None</td><td>None</td></tr>\n",
       "<tr><td>/mnt/c/Users/Karan/Documents/GitHub/Eclipsing-Binary-Modeling/data/raw_data/mastDownload/Kepler/kplr002306740_lc_Q011111111111111111/kplr002306740-2011073133259_llc.fits</td><td>COMPLETE</td><td>None</td><td>None</td></tr>\n",
       "<tr><td>/mnt/c/Users/Karan/Documents/GitHub/Eclipsing-Binary-Modeling/data/raw_data/mastDownload/Kepler/kplr002306740_lc_Q011111111111111111/kplr002306740-2011177032512_llc.fits</td><td>COMPLETE</td><td>None</td><td>None</td></tr>\n",
       "<tr><td>/mnt/c/Users/Karan/Documents/GitHub/Eclipsing-Binary-Modeling/data/raw_data/mastDownload/Kepler/kplr002306740_lc_Q011111111111111111/kplr002306740-2011271113734_llc.fits</td><td>COMPLETE</td><td>None</td><td>None</td></tr>\n",
       "<tr><td>/mnt/c/Users/Karan/Documents/GitHub/Eclipsing-Binary-Modeling/data/raw_data/mastDownload/Kepler/kplr002306740_lc_Q011111111111111111/kplr002306740-2012004120508_llc.fits</td><td>COMPLETE</td><td>None</td><td>None</td></tr>\n",
       "<tr><td>/mnt/c/Users/Karan/Documents/GitHub/Eclipsing-Binary-Modeling/data/raw_data/mastDownload/Kepler/kplr002306740_lc_Q011111111111111111/kplr002306740-2012088054726_llc.fits</td><td>COMPLETE</td><td>None</td><td>None</td></tr>\n",
       "<tr><td>/mnt/c/Users/Karan/Documents/GitHub/Eclipsing-Binary-Modeling/data/raw_data/mastDownload/Kepler/kplr002306740_lc_Q011111111111111111/kplr002306740-2012179063303_llc.fits</td><td>COMPLETE</td><td>None</td><td>None</td></tr>\n",
       "<tr><td>/mnt/c/Users/Karan/Documents/GitHub/Eclipsing-Binary-Modeling/data/raw_data/mastDownload/Kepler/kplr002306740_lc_Q011111111111111111/kplr002306740-2012277125453_llc.fits</td><td>COMPLETE</td><td>None</td><td>None</td></tr>\n",
       "<tr><td>/mnt/c/Users/Karan/Documents/GitHub/Eclipsing-Binary-Modeling/data/raw_data/mastDownload/Kepler/kplr002306740_lc_Q011111111111111111/kplr002306740-2013011073258_llc.fits</td><td>COMPLETE</td><td>None</td><td>None</td></tr>\n",
       "<tr><td>/mnt/c/Users/Karan/Documents/GitHub/Eclipsing-Binary-Modeling/data/raw_data/mastDownload/Kepler/kplr002306740_lc_Q011111111111111111/kplr002306740-2013098041711_llc.fits</td><td>COMPLETE</td><td>None</td><td>None</td></tr>\n",
       "<tr><td>/mnt/c/Users/Karan/Documents/GitHub/Eclipsing-Binary-Modeling/data/raw_data/mastDownload/Kepler/kplr002306740_lc_Q011111111111111111/kplr002306740-2013131215648_llc.fits</td><td>COMPLETE</td><td>None</td><td>None</td></tr>\n",
       "</table></div>"
      ],
      "text/plain": [
       "<Table length=17>\n",
       "                                                                                Local Path                                                                                ...\n",
       "                                                                                  str169                                                                                  ...\n",
       "------------------------------------------------------------------------------------------------------------------------------------------------------------------------- ...\n",
       "/mnt/c/Users/Karan/Documents/GitHub/Eclipsing-Binary-Modeling/data/raw_data/mastDownload/Kepler/kplr002306740_lc_Q011111111111111111/kplr002306740-2009166043257_llc.fits ...\n",
       "/mnt/c/Users/Karan/Documents/GitHub/Eclipsing-Binary-Modeling/data/raw_data/mastDownload/Kepler/kplr002306740_lc_Q011111111111111111/kplr002306740-2009259160929_llc.fits ...\n",
       "/mnt/c/Users/Karan/Documents/GitHub/Eclipsing-Binary-Modeling/data/raw_data/mastDownload/Kepler/kplr002306740_lc_Q011111111111111111/kplr002306740-2009350155506_llc.fits ...\n",
       "/mnt/c/Users/Karan/Documents/GitHub/Eclipsing-Binary-Modeling/data/raw_data/mastDownload/Kepler/kplr002306740_lc_Q011111111111111111/kplr002306740-2010078095331_llc.fits ...\n",
       "/mnt/c/Users/Karan/Documents/GitHub/Eclipsing-Binary-Modeling/data/raw_data/mastDownload/Kepler/kplr002306740_lc_Q011111111111111111/kplr002306740-2010174085026_llc.fits ...\n",
       "/mnt/c/Users/Karan/Documents/GitHub/Eclipsing-Binary-Modeling/data/raw_data/mastDownload/Kepler/kplr002306740_lc_Q011111111111111111/kplr002306740-2010265121752_llc.fits ...\n",
       "/mnt/c/Users/Karan/Documents/GitHub/Eclipsing-Binary-Modeling/data/raw_data/mastDownload/Kepler/kplr002306740_lc_Q011111111111111111/kplr002306740-2010355172524_llc.fits ...\n",
       "/mnt/c/Users/Karan/Documents/GitHub/Eclipsing-Binary-Modeling/data/raw_data/mastDownload/Kepler/kplr002306740_lc_Q011111111111111111/kplr002306740-2011073133259_llc.fits ...\n",
       "/mnt/c/Users/Karan/Documents/GitHub/Eclipsing-Binary-Modeling/data/raw_data/mastDownload/Kepler/kplr002306740_lc_Q011111111111111111/kplr002306740-2011177032512_llc.fits ...\n",
       "/mnt/c/Users/Karan/Documents/GitHub/Eclipsing-Binary-Modeling/data/raw_data/mastDownload/Kepler/kplr002306740_lc_Q011111111111111111/kplr002306740-2011271113734_llc.fits ...\n",
       "/mnt/c/Users/Karan/Documents/GitHub/Eclipsing-Binary-Modeling/data/raw_data/mastDownload/Kepler/kplr002306740_lc_Q011111111111111111/kplr002306740-2012004120508_llc.fits ...\n",
       "/mnt/c/Users/Karan/Documents/GitHub/Eclipsing-Binary-Modeling/data/raw_data/mastDownload/Kepler/kplr002306740_lc_Q011111111111111111/kplr002306740-2012088054726_llc.fits ...\n",
       "/mnt/c/Users/Karan/Documents/GitHub/Eclipsing-Binary-Modeling/data/raw_data/mastDownload/Kepler/kplr002306740_lc_Q011111111111111111/kplr002306740-2012179063303_llc.fits ...\n",
       "/mnt/c/Users/Karan/Documents/GitHub/Eclipsing-Binary-Modeling/data/raw_data/mastDownload/Kepler/kplr002306740_lc_Q011111111111111111/kplr002306740-2012277125453_llc.fits ...\n",
       "/mnt/c/Users/Karan/Documents/GitHub/Eclipsing-Binary-Modeling/data/raw_data/mastDownload/Kepler/kplr002306740_lc_Q011111111111111111/kplr002306740-2013011073258_llc.fits ...\n",
       "/mnt/c/Users/Karan/Documents/GitHub/Eclipsing-Binary-Modeling/data/raw_data/mastDownload/Kepler/kplr002306740_lc_Q011111111111111111/kplr002306740-2013098041711_llc.fits ...\n",
       "/mnt/c/Users/Karan/Documents/GitHub/Eclipsing-Binary-Modeling/data/raw_data/mastDownload/Kepler/kplr002306740_lc_Q011111111111111111/kplr002306740-2013131215648_llc.fits ..."
      ]
     },
     "execution_count": 27,
     "metadata": {},
     "output_type": "execute_result"
    }
   ],
   "source": [
    "Observations.download_products(myProds, mrp_only = False, cache = False, \n",
    "                               download_dir = '/mnt/c/Users/Karan/Documents/GitHub/Eclipsing-Binary-Modeling/data/raw_data') "
   ]
  },
  {
   "cell_type": "markdown",
   "metadata": {},
   "source": [
    "# Reading Fits Extension"
   ]
  },
  {
   "cell_type": "code",
   "execution_count": 51,
   "metadata": {},
   "outputs": [],
   "source": [
    "from pathlib import Path\n",
    "\n",
    "fits_dir = Path('/mnt/c/Users/Karan/Documents/GitHub/Eclipsing-Binary-Modeling/data/fits_data')\n",
    "out_dir = Path('/mnt/c/Users/Karan/Documents/GitHub/Eclipsing-Binary-Modeling/data/raw_data')"
   ]
  },
  {
   "cell_type": "code",
   "execution_count": 45,
   "metadata": {},
   "outputs": [],
   "source": [
    "def process_fits_file(fits_file, out_dir):\n",
    "    \n",
    "    with fits.open(fits_file) as hdul:\n",
    "\n",
    "        hdr = hdul[1].header\n",
    "        data = hdul[1].data\n",
    "        \n",
    "        # Read in the \"BJDREF\" which is the time offset of the time array.\n",
    "        bjdrefi = hdr['BJDREFI'] \n",
    "        bjdreff = hdr['BJDREFF']\n",
    "\n",
    "        # Read in the columns of data.\n",
    "        time = data['time'] \n",
    "        bjd = time + bjdrefi + bjdreff\n",
    "        sap_flux = data['SAP_FLUX']\n",
    "        sap_flux_err = data['SAP_FLUX_ERR']\n",
    "        pdcsap_flux = data['PDCSAP_FLUX']\n",
    "        pdcsap_flux_err = data['PDCSAP_FLUX_ERR']\n",
    "\n",
    "        all_data = np.column_stack((time, bjd, sap_flux, sap_flux_err, pdcsap_flux, pdcsap_flux_err))\n",
    "\n",
    "        dat_file = out_dir / (fits_file.stem + '.dat')\n",
    "\n",
    "        header = \"# Time, BJD, SAP_FLUX, SAP_FLUX_ERR, PDCSAP_FLUX, PDCSAP_FLUX_ERR\\n\"\n",
    "        np.savetxt(dat_file, all_data, header = header, comments = '', fmt = '%.6f')"
   ]
  },
  {
   "cell_type": "code",
   "execution_count": 52,
   "metadata": {},
   "outputs": [
    {
     "name": "stdout",
     "output_type": "stream",
     "text": [
      "Processing file: /mnt/c/Users/Karan/Documents/GitHub/Eclipsing-Binary-Modeling/data/fits_data/kplr002306740-2009166043257_llc.fits\n",
      "Processing file: /mnt/c/Users/Karan/Documents/GitHub/Eclipsing-Binary-Modeling/data/fits_data/kplr002306740-2009259160929_llc.fits\n",
      "Processing file: /mnt/c/Users/Karan/Documents/GitHub/Eclipsing-Binary-Modeling/data/fits_data/kplr002306740-2009350155506_llc.fits\n",
      "Processing file: /mnt/c/Users/Karan/Documents/GitHub/Eclipsing-Binary-Modeling/data/fits_data/kplr002306740-2010078095331_llc.fits\n",
      "Processing file: /mnt/c/Users/Karan/Documents/GitHub/Eclipsing-Binary-Modeling/data/fits_data/kplr002306740-2010174085026_llc.fits\n",
      "Processing file: /mnt/c/Users/Karan/Documents/GitHub/Eclipsing-Binary-Modeling/data/fits_data/kplr002306740-2010265121752_llc.fits\n",
      "Processing file: /mnt/c/Users/Karan/Documents/GitHub/Eclipsing-Binary-Modeling/data/fits_data/kplr002306740-2010355172524_llc.fits\n",
      "Processing file: /mnt/c/Users/Karan/Documents/GitHub/Eclipsing-Binary-Modeling/data/fits_data/kplr002306740-2011073133259_llc.fits\n",
      "Processing file: /mnt/c/Users/Karan/Documents/GitHub/Eclipsing-Binary-Modeling/data/fits_data/kplr002306740-2011177032512_llc.fits\n",
      "Processing file: /mnt/c/Users/Karan/Documents/GitHub/Eclipsing-Binary-Modeling/data/fits_data/kplr002306740-2011271113734_llc.fits\n",
      "Processing file: /mnt/c/Users/Karan/Documents/GitHub/Eclipsing-Binary-Modeling/data/fits_data/kplr002306740-2012004120508_llc.fits\n",
      "Processing file: /mnt/c/Users/Karan/Documents/GitHub/Eclipsing-Binary-Modeling/data/fits_data/kplr002306740-2012088054726_llc.fits\n",
      "Processing file: /mnt/c/Users/Karan/Documents/GitHub/Eclipsing-Binary-Modeling/data/fits_data/kplr002306740-2012179063303_llc.fits\n",
      "Processing file: /mnt/c/Users/Karan/Documents/GitHub/Eclipsing-Binary-Modeling/data/fits_data/kplr002306740-2012277125453_llc.fits\n",
      "Processing file: /mnt/c/Users/Karan/Documents/GitHub/Eclipsing-Binary-Modeling/data/fits_data/kplr002306740-2013011073258_llc.fits\n",
      "Processing file: /mnt/c/Users/Karan/Documents/GitHub/Eclipsing-Binary-Modeling/data/fits_data/kplr002306740-2013098041711_llc.fits\n",
      "Processing file: /mnt/c/Users/Karan/Documents/GitHub/Eclipsing-Binary-Modeling/data/fits_data/kplr002306740-2013131215648_llc.fits\n",
      "Processing complete.\n"
     ]
    }
   ],
   "source": [
    "for fits_file in fits_dir.glob('*.fits'):\n",
    "    print(f\"Processing file: {fits_file}\")\n",
    "    process_fits_file(fits_file, out_dir)\n",
    "\n",
    "print('Processing complete.')"
   ]
  }
 ],
 "metadata": {
  "kernelspec": {
   "display_name": "astro",
   "language": "python",
   "name": "python3"
  },
  "language_info": {
   "codemirror_mode": {
    "name": "ipython",
    "version": 3
   },
   "file_extension": ".py",
   "mimetype": "text/x-python",
   "name": "python",
   "nbconvert_exporter": "python",
   "pygments_lexer": "ipython3",
   "version": "3.11.9"
  }
 },
 "nbformat": 4,
 "nbformat_minor": 2
}
