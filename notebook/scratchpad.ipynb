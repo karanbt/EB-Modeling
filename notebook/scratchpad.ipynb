{
 "cells": [
  {
   "cell_type": "code",
   "execution_count": 2,
   "metadata": {},
   "outputs": [],
   "source": [
    "import numpy as np\n",
    "from pathlib import Path"
   ]
  },
  {
   "cell_type": "code",
   "execution_count": 4,
   "metadata": {},
   "outputs": [],
   "source": [
    "time = np.array([55763.657622, 55797.798841, 55801.772678, 55840.667652, 55844.647447, 55860.612849, 55811.613101, 55840.593371, 55851.578556])\n",
    "rvsA = np.array([-47.095, 80.442, 6.212, 57.174, -27.296, 70.338, 14.143, 58.339, 43.858]) \n",
    "rvsA_sigma = np.array([0.098, 0.094, 0.098, 0.100, 0.114, 0.244, 0.533, 0.468, 0.476])\n",
    "rvsB = np.array([85.573, -58.287, 25.530, -32.382, 63.953, -47.579, 14.403, -34.714, -19.668]) \n",
    "rvsB_sigma = np.array([0.188, 0.174, 0.194, 0.188, 0.210, 0.460, 0.847, 0.747, 0.849])\n",
    "\n",
    "bjd = time + 2400000\n",
    "\n",
    "# data_rv = np.column_stack((bjd_rv, rvsA, rvsA_sigma, rvsB, rvsB_sigma))\n",
    "\n",
    "# dir = Path('/mnt/c/Users/Karan/Documents/GitHub/Eclipsing-Binary-Modeling/data')\n",
    "# dat_file = dir / ( 'rvs.dat')\n",
    "\n",
    "# header = \"# BJD, rv_A, e_rvA, rv_B, e_rvB\\n\"\n",
    "# np.savetxt(dat_file, data_rv, header = header, comments = '', fmt = '%.6f')"
   ]
  }
 ],
 "metadata": {
  "kernelspec": {
   "display_name": "astro",
   "language": "python",
   "name": "python3"
  },
  "language_info": {
   "codemirror_mode": {
    "name": "ipython",
    "version": 3
   },
   "file_extension": ".py",
   "mimetype": "text/x-python",
   "name": "python",
   "nbconvert_exporter": "python",
   "pygments_lexer": "ipython3",
   "version": "3.11.9"
  }
 },
 "nbformat": 4,
 "nbformat_minor": 2
}
